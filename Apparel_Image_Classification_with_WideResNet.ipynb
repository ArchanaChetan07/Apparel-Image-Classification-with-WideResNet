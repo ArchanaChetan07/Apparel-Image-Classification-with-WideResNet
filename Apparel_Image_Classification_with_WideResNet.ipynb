{
  "nbformat": 4,
  "nbformat_minor": 0,
  "metadata": {
    "colab": {
      "provenance": [],
      "gpuType": "T4"
    },
    "kernelspec": {
      "name": "python3",
      "display_name": "Python 3"
    },
    "language_info": {
      "name": "python"
    },
    "accelerator": "GPU"
  },
  "cells": [
    {
      "cell_type": "markdown",
      "source": [
        "# Apparel Image Classification with WideResNet\n",
        "\n",
        "\n",
        "\n",
        "\n"
      ],
      "metadata": {
        "id": "Brvlio1uUe9c"
      }
    },
    {
      "cell_type": "code",
      "source": [
        "!pip install keras-tuner"
      ],
      "metadata": {
        "colab": {
          "base_uri": "https://localhost:8080/"
        },
        "id": "KWUjItsA_mBb",
        "outputId": "056a0838-acdd-4e5a-e171-df32e82bf0e9"
      },
      "execution_count": null,
      "outputs": [
        {
          "output_type": "stream",
          "name": "stdout",
          "text": [
            "Collecting keras-tuner\n",
            "  Downloading keras_tuner-1.4.7-py3-none-any.whl.metadata (5.4 kB)\n",
            "Requirement already satisfied: keras in /usr/local/lib/python3.10/dist-packages (from keras-tuner) (3.5.0)\n",
            "Requirement already satisfied: packaging in /usr/local/lib/python3.10/dist-packages (from keras-tuner) (24.2)\n",
            "Requirement already satisfied: requests in /usr/local/lib/python3.10/dist-packages (from keras-tuner) (2.32.3)\n",
            "Collecting kt-legacy (from keras-tuner)\n",
            "  Downloading kt_legacy-1.0.5-py3-none-any.whl.metadata (221 bytes)\n",
            "Requirement already satisfied: absl-py in /usr/local/lib/python3.10/dist-packages (from keras->keras-tuner) (1.4.0)\n",
            "Requirement already satisfied: numpy in /usr/local/lib/python3.10/dist-packages (from keras->keras-tuner) (1.26.4)\n",
            "Requirement already satisfied: rich in /usr/local/lib/python3.10/dist-packages (from keras->keras-tuner) (13.9.4)\n",
            "Requirement already satisfied: namex in /usr/local/lib/python3.10/dist-packages (from keras->keras-tuner) (0.0.8)\n",
            "Requirement already satisfied: h5py in /usr/local/lib/python3.10/dist-packages (from keras->keras-tuner) (3.12.1)\n",
            "Requirement already satisfied: optree in /usr/local/lib/python3.10/dist-packages (from keras->keras-tuner) (0.13.1)\n",
            "Requirement already satisfied: ml-dtypes in /usr/local/lib/python3.10/dist-packages (from keras->keras-tuner) (0.4.1)\n",
            "Requirement already satisfied: charset-normalizer<4,>=2 in /usr/local/lib/python3.10/dist-packages (from requests->keras-tuner) (3.4.0)\n",
            "Requirement already satisfied: idna<4,>=2.5 in /usr/local/lib/python3.10/dist-packages (from requests->keras-tuner) (3.10)\n",
            "Requirement already satisfied: urllib3<3,>=1.21.1 in /usr/local/lib/python3.10/dist-packages (from requests->keras-tuner) (2.2.3)\n",
            "Requirement already satisfied: certifi>=2017.4.17 in /usr/local/lib/python3.10/dist-packages (from requests->keras-tuner) (2024.8.30)\n",
            "Requirement already satisfied: typing-extensions>=4.5.0 in /usr/local/lib/python3.10/dist-packages (from optree->keras->keras-tuner) (4.12.2)\n",
            "Requirement already satisfied: markdown-it-py>=2.2.0 in /usr/local/lib/python3.10/dist-packages (from rich->keras->keras-tuner) (3.0.0)\n",
            "Requirement already satisfied: pygments<3.0.0,>=2.13.0 in /usr/local/lib/python3.10/dist-packages (from rich->keras->keras-tuner) (2.18.0)\n",
            "Requirement already satisfied: mdurl~=0.1 in /usr/local/lib/python3.10/dist-packages (from markdown-it-py>=2.2.0->rich->keras->keras-tuner) (0.1.2)\n",
            "Downloading keras_tuner-1.4.7-py3-none-any.whl (129 kB)\n",
            "\u001b[2K   \u001b[90m━━━━━━━━━━━━━━━━━━━━━━━━━━━━━━━━━━━━━━━━\u001b[0m \u001b[32m129.1/129.1 kB\u001b[0m \u001b[31m7.0 MB/s\u001b[0m eta \u001b[36m0:00:00\u001b[0m\n",
            "\u001b[?25hDownloading kt_legacy-1.0.5-py3-none-any.whl (9.6 kB)\n",
            "Installing collected packages: kt-legacy, keras-tuner\n",
            "Successfully installed keras-tuner-1.4.7 kt-legacy-1.0.5\n"
          ]
        }
      ]
    },
    {
      "cell_type": "markdown",
      "source": [
        "## Introduction\n",
        "This notebook implements a deep learning-based approach to classify images of clothing items from the Fashion MNIST dataset using the WideResNet architecture. The WideResNet model enhances ResNet by increasing its width, improving performance while maintaining computational efficiency.\n",
        "\n",
        "The goal of this project is to accurately classify images into 10 categories, such as shirts, trousers, and dresses.\n"
      ],
      "metadata": {
        "id": "iifGy_RIUjVL"
      }
    },
    {
      "cell_type": "code",
      "execution_count": null,
      "metadata": {
        "id": "uBcFC6jt_beM"
      },
      "outputs": [],
      "source": [
        "import numpy as np\n",
        "import matplotlib.pyplot as plt\n",
        "import random\n",
        "import tensorflow as tf\n",
        "import keras\n",
        "from tensorflow import keras\n",
        "import keras_tuner as kt\n",
        "import torch\n",
        "import torch.nn as nn\n",
        "import numpy as np\n",
        "import os\n",
        "import time\n",
        "import torchvision\n",
        "import torchvision.transforms as transforms\n",
        "from torch.utils.data import Dataset, DataLoader, TensorDataset\n",
        "from tensorflow.keras import layers, models\n",
        "from tensorflow.keras.utils import to_categorical"
      ]
    },
    {
      "cell_type": "markdown",
      "source": [
        "## Objective\n",
        "To leverage the WideResNet architecture for:\n",
        "- Improving image classification accuracy on the Fashion MNIST dataset.\n",
        "- Demonstrating the effectiveness of wider residual networks.\n",
        "- Exploring practical implementations of PyTorch and TensorFlow for data preprocessing and model building.\n"
      ],
      "metadata": {
        "id": "Y0lDi3DcVTsz"
      }
    },
    {
      "cell_type": "code",
      "source": [
        "fashion_mnist = keras.datasets.fashion_mnist\n",
        "(train_images, train_labels), (test_images, test_labels) = fashion_mnist.load_data()"
      ],
      "metadata": {
        "colab": {
          "base_uri": "https://localhost:8080/"
        },
        "id": "V0qA4A8Z_dtj",
        "outputId": "5389e09b-f643-4dff-e37c-540d4aad619d"
      },
      "execution_count": null,
      "outputs": [
        {
          "output_type": "stream",
          "name": "stdout",
          "text": [
            "Downloading data from https://storage.googleapis.com/tensorflow/tf-keras-datasets/train-labels-idx1-ubyte.gz\n",
            "\u001b[1m29515/29515\u001b[0m \u001b[32m━━━━━━━━━━━━━━━━━━━━\u001b[0m\u001b[37m\u001b[0m \u001b[1m0s\u001b[0m 0us/step\n",
            "Downloading data from https://storage.googleapis.com/tensorflow/tf-keras-datasets/train-images-idx3-ubyte.gz\n",
            "\u001b[1m26421880/26421880\u001b[0m \u001b[32m━━━━━━━━━━━━━━━━━━━━\u001b[0m\u001b[37m\u001b[0m \u001b[1m1s\u001b[0m 0us/step\n",
            "Downloading data from https://storage.googleapis.com/tensorflow/tf-keras-datasets/t10k-labels-idx1-ubyte.gz\n",
            "\u001b[1m5148/5148\u001b[0m \u001b[32m━━━━━━━━━━━━━━━━━━━━\u001b[0m\u001b[37m\u001b[0m \u001b[1m0s\u001b[0m 0us/step\n",
            "Downloading data from https://storage.googleapis.com/tensorflow/tf-keras-datasets/t10k-images-idx3-ubyte.gz\n",
            "\u001b[1m4422102/4422102\u001b[0m \u001b[32m━━━━━━━━━━━━━━━━━━━━\u001b[0m\u001b[37m\u001b[0m \u001b[1m1s\u001b[0m 0us/step\n"
          ]
        }
      ]
    },
    {
      "cell_type": "markdown",
      "source": [
        "## Dataset\n",
        "The Fashion MNIST dataset contains:\n",
        "- **Training Images**: 60,000 grayscale images (28x28 pixels each).\n",
        "- **Test Images**: 10,000 grayscale images.\n",
        "\n",
        "Each image belongs to one of 10 categories:\n",
        "1. T-shirt/top\n",
        "2. Trouser\n",
        "3. Pullover\n",
        "4. Dress\n",
        "5. Coat\n",
        "6. Sandal\n",
        "7. Shirt\n",
        "8. Sneaker\n",
        "9. Bag\n",
        "10. Ankle boot\n"
      ],
      "metadata": {
        "id": "iHoQaTohVb_3"
      }
    },
    {
      "cell_type": "markdown",
      "source": [
        "## Methodology\n",
        "1. **Data Preprocessing**:\n",
        "   - Normalized pixel values to [0, 1].\n",
        "   - Reshaped input for compatibility with the WideResNet architecture.\n",
        "2. **Model Architecture**:\n",
        "   - Built a WideResNet with batch normalization, dropout, and global average pooling.\n",
        "   - Configured for 10 output classes.\n",
        "3. **Training**:\n",
        "   - Implemented SGD optimizer with a learning rate of 0.01.\n",
        "   - Used early stopping to prevent overfitting.\n",
        "4. **Evaluation**:\n",
        "   - Validated using accuracy and loss metrics.\n",
        "   - Visualized validation accuracy over epochs.\n",
        "5. **Prediction**:\n",
        "   - Displayed predictions with sample test images.\n"
      ],
      "metadata": {
        "id": "L5OUTAHtVnCd"
      }
    },
    {
      "cell_type": "code",
      "source": [
        "# Simulate command-line arguments using a dictionary\n",
        "args_list = {\n",
        "    'batch_size': 32,\n",
        "    'epochs': 40,\n",
        "    'base_lr': 0.01,\n",
        "    'target_accuracy': 0.85,\n",
        "    'patience': 2\n",
        "}"
      ],
      "metadata": {
        "id": "eIXBmheFQOYX"
      },
      "execution_count": null,
      "outputs": []
    },
    {
      "cell_type": "code",
      "source": [
        "# Convert dictionary to an object for attribute-like access\n",
        "class Args:\n",
        "    def __init__(self, args_dict):\n",
        "        self.__dict__.update(args_dict)\n",
        "\n",
        "args = Args(args_list)\n"
      ],
      "metadata": {
        "id": "-Oo7sziGQOVJ"
      },
      "execution_count": null,
      "outputs": []
    },
    {
      "cell_type": "code",
      "source": [
        "# Standard convolution block followed by batch normalization\n",
        "class cbrblock(nn.Module):\n",
        "    def __init__(self, input_channels, output_channels):\n",
        "        super(cbrblock, self).__init__()\n",
        "        self.cbr = nn.Sequential(nn.Conv2d(input_channels, output_channels, kernel_size=3, stride=(1, 1),\n",
        "                               padding='same', bias=False),\n",
        "                               nn.BatchNorm2d(output_channels),\n",
        "                               nn.ReLU()\n",
        "        )\n",
        "    def forward(self, x):\n",
        "        out = self.cbr(x)\n",
        "        return out"
      ],
      "metadata": {
        "id": "qPDZIVKAQOQB"
      },
      "execution_count": null,
      "outputs": []
    },
    {
      "cell_type": "code",
      "source": [
        "# Basic residual block\n",
        "class conv_block(nn.Module):\n",
        "    def __init__(self, input_channels, output_channels, scale_input):\n",
        "        super(conv_block, self).__init__()\n",
        "        self.scale_input = scale_input\n",
        "        if self.scale_input:\n",
        "            self.scale = nn.Conv2d(input_channels, output_channels, kernel_size=1, stride=(1, 1),\n",
        "                               padding='same')\n",
        "        self.layer1 = cbrblock(input_channels, output_channels)\n",
        "        self.dropout = nn.Dropout(p=0.01)\n",
        "        self.layer2 = cbrblock(output_channels, output_channels)\n",
        "\n",
        "    def forward(self, x):\n",
        "        residual = x\n",
        "        out = self.layer1(x)\n",
        "        out = self.dropout(out)\n",
        "        out = self.layer2(out)\n",
        "        if self.scale_input:\n",
        "            residual = self.scale(residual)\n",
        "        out = out + residual\n",
        "\n",
        "        return out"
      ],
      "metadata": {
        "id": "4TG9573gQONj"
      },
      "execution_count": null,
      "outputs": []
    },
    {
      "cell_type": "code",
      "source": [
        "# Overall network\n",
        "class WideResNet(nn.Module):\n",
        "    def __init__(self, num_classes):\n",
        "        super(WideResNet, self).__init__()\n",
        "        nChannels = [1, 16, 160, 320, 640]\n",
        "\n",
        "        self.input_block = cbrblock(nChannels[0], nChannels[1])\n",
        "\n",
        "        # Module with alternating components employing input scaling\n",
        "        self.block1 = conv_block(nChannels[1], nChannels[2], 1)\n",
        "        self.block2 = conv_block(nChannels[2], nChannels[2], 0)\n",
        "        self.pool1 = nn.MaxPool2d(2)\n",
        "        self.block3 = conv_block(nChannels[2], nChannels[3], 1)\n",
        "        self.block4 = conv_block(nChannels[3], nChannels[3], 0)\n",
        "        self.pool2 = nn.MaxPool2d(2)\n",
        "        self.block5 = conv_block(nChannels[3], nChannels[4], 1)\n",
        "        self.block6 = conv_block(nChannels[4], nChannels[4], 0)\n",
        "\n",
        "        # Global average pooling\n",
        "        self.pool = nn.AvgPool2d(7)\n",
        "\n",
        "        # Feature flattening followed by linear layer\n",
        "        self.flat = nn.Flatten()\n",
        "        self.fc = nn.Linear(nChannels[4], num_classes)\n",
        "\n",
        "    def forward(self, x):\n",
        "        out = self.input_block(x)\n",
        "        out = self.block1(out)\n",
        "        out = self.block2(out)\n",
        "        out = self.pool1(out)\n",
        "        out = self.block3(out)\n",
        "        out = self.block4(out)\n",
        "        out = self.pool2(out)\n",
        "        out = self.block5(out)\n",
        "        out = self.block6(out)\n",
        "        out = self.pool(out)\n",
        "        out = self.flat(out)\n",
        "        out = self.fc(out)\n",
        "\n",
        "        return out\n",
        "\n",
        "def train(model, optimizer, train_loader, loss_fn, device):\n",
        "    model.train()\n",
        "    for images, labels in train_loader:\n",
        "        # Transfering images and labels to GPU if available\n",
        "        labels = labels.to(device)\n",
        "        images = images.to(device)\n",
        "\n",
        "        # Forward pass\n",
        "        outputs = model(images)\n",
        "        loss = loss_fn(outputs, labels)\n",
        "\n",
        "        # Setting all parameter gradients to zero to avoid gradient accumulation\n",
        "        optimizer.zero_grad()\n",
        "\n",
        "        # Backward pass\n",
        "        loss.backward()\n",
        "\n",
        "        # Updating model parameters\n",
        "        optimizer.step()\n",
        "\n",
        "def test(model, test_loader, loss_fn, device):\n",
        "    total_labels = 0\n",
        "    correct_labels = 0\n",
        "    loss_total = 0\n",
        "    model.eval()\n",
        "    with torch.no_grad():\n",
        "        for images, labels in test_loader:\n",
        "            # Transfering images and labels to GPU if available\n",
        "            labels = labels.to(device)\n",
        "            images = images.to(device)\n",
        "\n",
        "            # Forward pass\n",
        "            outputs = model(images)\n",
        "            loss = loss_fn(outputs, labels)\n",
        "\n",
        "            # Extracting predicted label, and computing validation loss and validation accuracy\n",
        "            predictions = torch.max(outputs, 1)[1]\n",
        "            total_labels += len(labels)\n",
        "            correct_labels += (predictions == labels).sum()\n",
        "            loss_total += loss\n",
        "\n",
        "    v_accuracy = correct_labels / total_labels\n",
        "    v_loss = loss_total / len(test_loader)\n",
        "\n",
        "    return v_accuracy, v_loss"
      ],
      "metadata": {
        "id": "Zy9mJ10jQOLx"
      },
      "execution_count": null,
      "outputs": []
    },
    {
      "cell_type": "code",
      "source": [
        "if __name__ == '__main__':\n",
        "    # Load the Fashion MNIST dataset using TensorFlow\n",
        "    fashion_mnist = tf.keras.datasets.fashion_mnist\n",
        "    (train_images, train_labels), (test_images, test_labels) = fashion_mnist.load_data()\n",
        "\n",
        "    # Normalize and preprocess the dataset\n",
        "    train_images = train_images.reshape(-1, 1, 28, 28).astype('float32') / 255.0\n",
        "    test_images = test_images.reshape(-1, 1, 28, 28).astype('float32') / 255.0\n",
        "\n",
        "    # Convert to PyTorch tensors\n",
        "    train_tensor = TensorDataset(torch.tensor(train_images), torch.tensor(train_labels))\n",
        "    test_tensor = TensorDataset(torch.tensor(test_images), torch.tensor(test_labels))\n",
        "\n",
        "    # Data loaders\n",
        "    train_loader = DataLoader(train_tensor, batch_size=args.batch_size, shuffle=True) # Access using args.batch_size\n",
        "    test_loader = DataLoader(test_tensor, batch_size=args.batch_size, shuffle=False)\n",
        "\n",
        "    # Create the model and move to GPU device if available\n",
        "    num_classes = 10\n",
        "    device = torch.device(\"cuda:0\" if torch.cuda.is_available() else \"cpu\")\n",
        "\n",
        "    model = WideResNet(num_classes).to(device)\n",
        "\n",
        "    # Define loss function\n",
        "    loss_fn = nn.CrossEntropyLoss()\n",
        "\n",
        "    # Define the SGD optimizer\n",
        "    optimizer = torch.optim.SGD(model.parameters(), lr=args.base_lr)\n",
        "\n",
        "    val_accuracy = []\n",
        "    total_time = 0  # Track total training time."
      ],
      "metadata": {
        "id": "nKg0CaDHQOJn"
      },
      "execution_count": null,
      "outputs": []
    },
    {
      "cell_type": "code",
      "source": [
        "    for epoch in range(args.epochs):\n",
        "        t0 = time.time()\n",
        "\n",
        "        train(model, optimizer, train_loader, loss_fn, device)\n",
        "\n",
        "        epoch_time = time.time() - t0\n",
        "        total_time += epoch_time  # Increment total time.\n",
        "\n",
        "        # Compute images per second for each epoch.\n",
        "        images_per_sec = len(train_loader) * args.batch_size / epoch_time\n",
        "\n",
        "        # Test the model\n",
        "        v_accuracy, v_loss = test(model, test_loader, loss_fn, device)\n",
        "        val_accuracy.append(v_accuracy)\n",
        "\n",
        "        # Print metrics\n",
        "        print(\"Epoch = {:2d}: Epoch Time = {:5.3f}, Total Time = {:5.3f}, Images/sec = {:5.3f}, Validation Loss = {:5.3f}, Validation Accuracy = {:5.3f}\".format(\n",
        "            epoch + 1, epoch_time, total_time, images_per_sec, v_loss, val_accuracy[-1]))\n",
        "\n",
        "        # Implement early stopping based on validation accuracy.\n",
        "        if val_accuracy: # equivalent to if len(val_accuracy) > 0\n",
        "            # Implement early stopping based on validation accuracy.\n",
        "            if val_accuracy[-1] >= args.target_accuracy:\n",
        "                if len(val_accuracy) >= args.patience and all(acc >= args.target_accuracy for acc in val_accuracy[-args.patience:]):\n",
        "                    print('Early stopping after epoch {}'.format(epoch + 1))\n",
        "                    break\n"
      ],
      "metadata": {
        "id": "AFSJ9omOQOHh"
      },
      "execution_count": null,
      "outputs": []
    },
    {
      "cell_type": "code",
      "source": [
        "torch.save(model.state_dict(), 'fashion_mnist_model.pth')\n",
        "print(\"Model saved successfully.\")"
      ],
      "metadata": {
        "colab": {
          "base_uri": "https://localhost:8080/"
        },
        "id": "kvx6dffbCGBN",
        "outputId": "4d704dc4-ccdf-4eed-edb1-c7ee0be2a3fa"
      },
      "execution_count": null,
      "outputs": [
        {
          "output_type": "stream",
          "name": "stdout",
          "text": [
            "Model saved successfully.\n"
          ]
        }
      ]
    },
    {
      "cell_type": "code",
      "source": [
        "test_accuracy, test_loss = test(model, test_loader, loss_fn, device)\n",
        "print(f\"Test Loss: {test_loss:.3f}, Test Accuracy: {test_accuracy:.3f}\")"
      ],
      "metadata": {
        "colab": {
          "base_uri": "https://localhost:8080/"
        },
        "id": "-kbY-gelCF-3",
        "outputId": "efdf0327-b513-4cac-b1de-0df56f7442a5"
      },
      "execution_count": null,
      "outputs": [
        {
          "output_type": "stream",
          "name": "stdout",
          "text": [
            "Test Loss: 0.258, Test Accuracy: 0.905\n"
          ]
        }
      ]
    },
    {
      "cell_type": "code",
      "source": [
        "import matplotlib.pyplot as plt\n",
        "\n",
        "# Assuming `val_accuracy` is a list of tensors, convert each tensor to a CPU NumPy value\n",
        "val_accuracy_cpu = [acc.cpu().numpy() for acc in val_accuracy]\n",
        "\n",
        "# Generate the range of epochs\n",
        "epochs = range(1, len(val_accuracy_cpu) + 1)\n",
        "\n",
        "# Plot validation accuracy\n",
        "plt.plot(epochs, val_accuracy_cpu, label='Validation Accuracy')\n",
        "plt.title('Validation Accuracy Over Epochs')\n",
        "plt.xlabel('Epochs')\n",
        "plt.ylabel('Accuracy')\n",
        "plt.legend()\n",
        "plt.show()"
      ],
      "metadata": {
        "colab": {
          "base_uri": "https://localhost:8080/",
          "height": 472
        },
        "id": "Si-qwDNFCF44",
        "outputId": "144e38ed-e1f7-4191-f1e9-2d6fe719bc4b"
      },
      "execution_count": null,
      "outputs": [
        {
          "output_type": "display_data",
          "data": {
            "text/plain": [
              "<Figure size 640x480 with 1 Axes>"
            ],
            "image/png": "[encoded data removed]"
          },
          "metadata": {}
        }
      ]
    },
    {
      "cell_type": "markdown",
      "source": [
        "## Results\n",
        "- **Validation Accuracy**: 90.5%\n",
        "- **Test Loss**: 0.258\n",
        "- **Test Accuracy**: 90.5%\n",
        "\n",
        "The WideResNet model demonstrated robust performance, achieving high classification accuracy with minimal overfitting.\n"
      ],
      "metadata": {
        "id": "RPpPHPHVVz_B"
      }
    },
    {
      "cell_type": "code",
      "source": [
        "\n",
        "# Get some test data\n",
        "data_iter = iter(test_loader)\n",
        "images, labels = next(data_iter)\n",
        "\n",
        "# Move to device\n",
        "images, labels = images.to(device), labels.to(device)\n",
        "\n",
        "# Get predictions\n",
        "outputs = model(images)\n",
        "_, preds = torch.max(outputs, 1)\n",
        "\n",
        "# Display the first 5 images and predictions\n",
        "for i in range(5):\n",
        "    plt.imshow(images[i].cpu().numpy().squeeze(), cmap='gray')\n",
        "    plt.title(f\"True: {labels[i].item()}, Pred: {preds[i].item()}\")\n",
        "    plt.show()\n",
        "\n"
      ],
      "metadata": {
        "colab": {
          "base_uri": "https://localhost:8080/",
          "height": 1000
        },
        "id": "21OLN2iIMOWA",
        "outputId": "59df11f5-8eec-4890-e5b1-eb4982f26019"
      },
      "execution_count": null,
      "outputs": [
        {
          "output_type": "display_data",
          "data": {
            "text/plain": [
              "<Figure size 640x480 with 1 Axes>"
            ],
            "image/png": "[encoded data removed]"
          },
          "metadata": {}
        },
        {
          "output_type": "display_data",
          "data": {
            "text/plain": [
              "<Figure size 640x480 with 1 Axes>"
            ],
            "image/png": "[encoded data removed]"
          },
          "metadata": {}
        },
        {
          "output_type": "display_data",
          "data": {
            "text/plain": [
              "<Figure size 640x480 with 1 Axes>"
            ],
            "image/png": "[encoded data removed]"
          },
          "metadata": {}
        },
        {
          "output_type": "display_data",
          "data": {
            "text/plain": [
              "<Figure size 640x480 with 1 Axes>"
            ],
            "image/png": "[encoded data removed]"
          },
          "metadata": {}
        },
        {
          "output_type": "display_data",
          "data": {
            "text/plain": [
              "<Figure size 640x480 with 1 Axes>"
            ],
            "image/png": "[encoded data removed]"
          },
          "metadata": {}
        }
      ]
    },
    {
      "cell_type": "markdown",
      "source": [
        "## Conclusion\n",
        "The WideResNet architecture proved to be effective for Fashion MNIST classification due to its ability to generalize well with increased width. This project showcases the potential of modern residual networks for image recognition tasks.\n"
      ],
      "metadata": {
        "id": "dT2jG7AnV23u"
      }
    },
    {
      "cell_type": "markdown",
      "source": [
        "## References\n",
        "1. WideResNet Paper: [https://arxiv.org/abs/1605.07146](https://arxiv.org/abs/1605.07146)\n",
        "\n",
        "3. PyTorch Documentation: [https://pytorch.org/docs/](https://pytorch.org/docs/)\n"
      ],
      "metadata": {
        "id": "BKHlVVteV7Dd"
      }
    }
  ]
}